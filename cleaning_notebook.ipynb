{
 "cells": [
  {
   "cell_type": "code",
   "execution_count": 1,
   "metadata": {},
   "outputs": [],
   "source": [
    "import pandas as pd \n",
    "import numpy as np\n",
    "import missingno as msno\n",
    "import seaborn as sns\n",
    "import matplotlib.pyplot as plt\n",
    "# from sklearn import linear_model"
   ]
  },
  {
   "cell_type": "code",
   "execution_count": 34,
   "metadata": {},
   "outputs": [
    {
     "data": {
      "text/html": [
       "<div>\n",
       "<style scoped>\n",
       "    .dataframe tbody tr th:only-of-type {\n",
       "        vertical-align: middle;\n",
       "    }\n",
       "\n",
       "    .dataframe tbody tr th {\n",
       "        vertical-align: top;\n",
       "    }\n",
       "\n",
       "    .dataframe thead th {\n",
       "        text-align: right;\n",
       "    }\n",
       "</style>\n",
       "<table border=\"1\" class=\"dataframe\">\n",
       "  <thead>\n",
       "    <tr style=\"text-align: right;\">\n",
       "      <th></th>\n",
       "      <th>code</th>\n",
       "      <th>url</th>\n",
       "      <th>creator</th>\n",
       "      <th>created_t</th>\n",
       "      <th>created_datetime</th>\n",
       "      <th>last_modified_t</th>\n",
       "      <th>last_modified_datetime</th>\n",
       "      <th>product_name</th>\n",
       "      <th>abbreviated_product_name</th>\n",
       "      <th>generic_name</th>\n",
       "      <th>...</th>\n",
       "      <th>carbon-footprint-from-meat-or-fish_100g</th>\n",
       "      <th>nutrition-score-fr_100g</th>\n",
       "      <th>nutrition-score-uk_100g</th>\n",
       "      <th>glycemic-index_100g</th>\n",
       "      <th>water-hardness_100g</th>\n",
       "      <th>choline_100g</th>\n",
       "      <th>phylloquinone_100g</th>\n",
       "      <th>beta-glucan_100g</th>\n",
       "      <th>inositol_100g</th>\n",
       "      <th>carnitine_100g</th>\n",
       "    </tr>\n",
       "  </thead>\n",
       "  <tbody>\n",
       "    <tr>\n",
       "      <th>0</th>\n",
       "      <td>225</td>\n",
       "      <td>http://world-en.openfoodfacts.org/product/0000...</td>\n",
       "      <td>nutrinet-sante</td>\n",
       "      <td>1623855208</td>\n",
       "      <td>2021-06-16T14:53:28Z</td>\n",
       "      <td>1623855209</td>\n",
       "      <td>2021-06-16T14:53:29Z</td>\n",
       "      <td>jeunes pousses</td>\n",
       "      <td>NaN</td>\n",
       "      <td>NaN</td>\n",
       "      <td>...</td>\n",
       "      <td>NaN</td>\n",
       "      <td>NaN</td>\n",
       "      <td>NaN</td>\n",
       "      <td>NaN</td>\n",
       "      <td>NaN</td>\n",
       "      <td>NaN</td>\n",
       "      <td>NaN</td>\n",
       "      <td>NaN</td>\n",
       "      <td>NaN</td>\n",
       "      <td>NaN</td>\n",
       "    </tr>\n",
       "    <tr>\n",
       "      <th>1</th>\n",
       "      <td>207025004</td>\n",
       "      <td>http://world-en.openfoodfacts.org/product/0000...</td>\n",
       "      <td>kiliweb</td>\n",
       "      <td>1656948610</td>\n",
       "      <td>2022-07-04T15:30:10Z</td>\n",
       "      <td>1656948613</td>\n",
       "      <td>2022-07-04T15:30:13Z</td>\n",
       "      <td>Andrè</td>\n",
       "      <td>NaN</td>\n",
       "      <td>NaN</td>\n",
       "      <td>...</td>\n",
       "      <td>NaN</td>\n",
       "      <td>NaN</td>\n",
       "      <td>NaN</td>\n",
       "      <td>NaN</td>\n",
       "      <td>NaN</td>\n",
       "      <td>NaN</td>\n",
       "      <td>NaN</td>\n",
       "      <td>NaN</td>\n",
       "      <td>NaN</td>\n",
       "      <td>NaN</td>\n",
       "    </tr>\n",
       "    <tr>\n",
       "      <th>2</th>\n",
       "      <td>3429145</td>\n",
       "      <td>http://world-en.openfoodfacts.org/product/0000...</td>\n",
       "      <td>kiliweb</td>\n",
       "      <td>1630483911</td>\n",
       "      <td>2021-09-01T08:11:51Z</td>\n",
       "      <td>1656488106</td>\n",
       "      <td>2022-06-29T07:35:06Z</td>\n",
       "      <td>L.casei</td>\n",
       "      <td>NaN</td>\n",
       "      <td>NaN</td>\n",
       "      <td>...</td>\n",
       "      <td>NaN</td>\n",
       "      <td>NaN</td>\n",
       "      <td>NaN</td>\n",
       "      <td>NaN</td>\n",
       "      <td>NaN</td>\n",
       "      <td>NaN</td>\n",
       "      <td>NaN</td>\n",
       "      <td>NaN</td>\n",
       "      <td>NaN</td>\n",
       "      <td>NaN</td>\n",
       "    </tr>\n",
       "    <tr>\n",
       "      <th>3</th>\n",
       "      <td>26772226</td>\n",
       "      <td>http://world-en.openfoodfacts.org/product/0000...</td>\n",
       "      <td>kiliweb</td>\n",
       "      <td>1654250311</td>\n",
       "      <td>2022-06-03T09:58:31Z</td>\n",
       "      <td>1654270474</td>\n",
       "      <td>2022-06-03T15:34:34Z</td>\n",
       "      <td>Skyr</td>\n",
       "      <td>NaN</td>\n",
       "      <td>NaN</td>\n",
       "      <td>...</td>\n",
       "      <td>NaN</td>\n",
       "      <td>-5.0</td>\n",
       "      <td>NaN</td>\n",
       "      <td>NaN</td>\n",
       "      <td>NaN</td>\n",
       "      <td>NaN</td>\n",
       "      <td>NaN</td>\n",
       "      <td>NaN</td>\n",
       "      <td>NaN</td>\n",
       "      <td>NaN</td>\n",
       "    </tr>\n",
       "    <tr>\n",
       "      <th>4</th>\n",
       "      <td>17</td>\n",
       "      <td>http://world-en.openfoodfacts.org/product/0000...</td>\n",
       "      <td>kiliweb</td>\n",
       "      <td>1529059080</td>\n",
       "      <td>2018-06-15T10:38:00Z</td>\n",
       "      <td>1561463718</td>\n",
       "      <td>2019-06-25T11:55:18Z</td>\n",
       "      <td>Vitória crackers</td>\n",
       "      <td>NaN</td>\n",
       "      <td>NaN</td>\n",
       "      <td>...</td>\n",
       "      <td>NaN</td>\n",
       "      <td>NaN</td>\n",
       "      <td>NaN</td>\n",
       "      <td>NaN</td>\n",
       "      <td>NaN</td>\n",
       "      <td>NaN</td>\n",
       "      <td>NaN</td>\n",
       "      <td>NaN</td>\n",
       "      <td>NaN</td>\n",
       "      <td>NaN</td>\n",
       "    </tr>\n",
       "  </tbody>\n",
       "</table>\n",
       "<p>5 rows × 196 columns</p>\n",
       "</div>"
      ],
      "text/plain": [
       "        code                                                url  \\\n",
       "0        225  http://world-en.openfoodfacts.org/product/0000...   \n",
       "1  207025004  http://world-en.openfoodfacts.org/product/0000...   \n",
       "2    3429145  http://world-en.openfoodfacts.org/product/0000...   \n",
       "3   26772226  http://world-en.openfoodfacts.org/product/0000...   \n",
       "4         17  http://world-en.openfoodfacts.org/product/0000...   \n",
       "\n",
       "          creator   created_t      created_datetime  last_modified_t  \\\n",
       "0  nutrinet-sante  1623855208  2021-06-16T14:53:28Z       1623855209   \n",
       "1         kiliweb  1656948610  2022-07-04T15:30:10Z       1656948613   \n",
       "2         kiliweb  1630483911  2021-09-01T08:11:51Z       1656488106   \n",
       "3         kiliweb  1654250311  2022-06-03T09:58:31Z       1654270474   \n",
       "4         kiliweb  1529059080  2018-06-15T10:38:00Z       1561463718   \n",
       "\n",
       "  last_modified_datetime      product_name  abbreviated_product_name  \\\n",
       "0   2021-06-16T14:53:29Z    jeunes pousses                       NaN   \n",
       "1   2022-07-04T15:30:13Z             Andrè                       NaN   \n",
       "2   2022-06-29T07:35:06Z           L.casei                       NaN   \n",
       "3   2022-06-03T15:34:34Z              Skyr                       NaN   \n",
       "4   2019-06-25T11:55:18Z  Vitória crackers                       NaN   \n",
       "\n",
       "   generic_name  ... carbon-footprint-from-meat-or-fish_100g  \\\n",
       "0           NaN  ...                                     NaN   \n",
       "1           NaN  ...                                     NaN   \n",
       "2           NaN  ...                                     NaN   \n",
       "3           NaN  ...                                     NaN   \n",
       "4           NaN  ...                                     NaN   \n",
       "\n",
       "   nutrition-score-fr_100g  nutrition-score-uk_100g  glycemic-index_100g  \\\n",
       "0                      NaN                      NaN                  NaN   \n",
       "1                      NaN                      NaN                  NaN   \n",
       "2                      NaN                      NaN                  NaN   \n",
       "3                     -5.0                      NaN                  NaN   \n",
       "4                      NaN                      NaN                  NaN   \n",
       "\n",
       "   water-hardness_100g choline_100g phylloquinone_100g beta-glucan_100g  \\\n",
       "0                  NaN          NaN                NaN              NaN   \n",
       "1                  NaN          NaN                NaN              NaN   \n",
       "2                  NaN          NaN                NaN              NaN   \n",
       "3                  NaN          NaN                NaN              NaN   \n",
       "4                  NaN          NaN                NaN              NaN   \n",
       "\n",
       "  inositol_100g carnitine_100g  \n",
       "0           NaN            NaN  \n",
       "1           NaN            NaN  \n",
       "2           NaN            NaN  \n",
       "3           NaN            NaN  \n",
       "4           NaN            NaN  \n",
       "\n",
       "[5 rows x 196 columns]"
      ]
     },
     "execution_count": 34,
     "metadata": {},
     "output_type": "execute_result"
    }
   ],
   "source": [
    "# The CSV file is too big to be read at once.\n",
    "# It is the dataset from the website compressed in gz.\n",
    "\n",
    "# (2_686_036 rows, 196 columns) found with 'wc - l' (bash)\n",
    "# and opening only 5 rows.\n",
    "data_en = pd.read_csv('./csv_files/data.csv', sep='\\t', nrows=5)\n",
    "data_en"
   ]
  },
  {
   "cell_type": "markdown",
   "metadata": {},
   "source": [
    "I want to create a very short list of interesting features found in the [features description](https://world.openfoodfacts.org/data/data-fields.txt) to start with.\n",
    "\n",
    "- code\n",
    "- product_name\n",
    "- categories\n",
    "- nutrition_grade_fr\n",
    "- nutrition-score-fr_100g\n",
    "- main_category\n",
    "- main_category_fr\n",
    "\n"
   ]
  },
  {
   "cell_type": "code",
   "execution_count": 28,
   "metadata": {},
   "outputs": [
    {
     "ename": "ValueError",
     "evalue": "Usecols do not match columns, columns expected but not found: ['nutrition_grade_fr', 'main_category_fr']",
     "output_type": "error",
     "traceback": [
      "\u001b[0;31m---------------------------------------------------------------------------\u001b[0m",
      "\u001b[0;31mValueError\u001b[0m                                Traceback (most recent call last)",
      "Cell \u001b[0;32mIn [28], line 11\u001b[0m\n\u001b[1;32m      1\u001b[0m features \u001b[39m=\u001b[39m [\u001b[39m'\u001b[39m\u001b[39mcode\u001b[39m\u001b[39m'\u001b[39m,\n\u001b[1;32m      2\u001b[0m             \u001b[39m'\u001b[39m\u001b[39mproduct_name\u001b[39m\u001b[39m'\u001b[39m,\n\u001b[1;32m      3\u001b[0m             \u001b[39m'\u001b[39m\u001b[39mcategories\u001b[39m\u001b[39m'\u001b[39m,\n\u001b[0;32m   (...)\u001b[0m\n\u001b[1;32m      7\u001b[0m             \u001b[39m'\u001b[39m\u001b[39mnutrition-score-fr_100g\u001b[39m\u001b[39m'\u001b[39m,\n\u001b[1;32m      8\u001b[0m             ]\n\u001b[1;32m     10\u001b[0m \u001b[39m# selecting only those columns on the first 200_000 products.\u001b[39;00m\n\u001b[0;32m---> 11\u001b[0m data_sel \u001b[39m=\u001b[39m pd\u001b[39m.\u001b[39;49mread_csv(\u001b[39m'\u001b[39;49m\u001b[39m./csv_files/data.csv\u001b[39;49m\u001b[39m'\u001b[39;49m,\n\u001b[1;32m     12\u001b[0m                    sep\u001b[39m=\u001b[39;49m\u001b[39m'\u001b[39;49m\u001b[39m\\t\u001b[39;49;00m\u001b[39m'\u001b[39;49m,\n\u001b[1;32m     13\u001b[0m                    usecols\u001b[39m=\u001b[39;49mfeatures,\n\u001b[1;32m     14\u001b[0m                    nrows\u001b[39m=\u001b[39;49m\u001b[39m2e5\u001b[39;49m)\n",
      "File \u001b[0;32m~/miniconda3/lib/python3.9/site-packages/pandas/util/_decorators.py:211\u001b[0m, in \u001b[0;36mdeprecate_kwarg.<locals>._deprecate_kwarg.<locals>.wrapper\u001b[0;34m(*args, **kwargs)\u001b[0m\n\u001b[1;32m    209\u001b[0m     \u001b[39melse\u001b[39;00m:\n\u001b[1;32m    210\u001b[0m         kwargs[new_arg_name] \u001b[39m=\u001b[39m new_arg_value\n\u001b[0;32m--> 211\u001b[0m \u001b[39mreturn\u001b[39;00m func(\u001b[39m*\u001b[39;49margs, \u001b[39m*\u001b[39;49m\u001b[39m*\u001b[39;49mkwargs)\n",
      "File \u001b[0;32m~/miniconda3/lib/python3.9/site-packages/pandas/util/_decorators.py:331\u001b[0m, in \u001b[0;36mdeprecate_nonkeyword_arguments.<locals>.decorate.<locals>.wrapper\u001b[0;34m(*args, **kwargs)\u001b[0m\n\u001b[1;32m    325\u001b[0m \u001b[39mif\u001b[39;00m \u001b[39mlen\u001b[39m(args) \u001b[39m>\u001b[39m num_allow_args:\n\u001b[1;32m    326\u001b[0m     warnings\u001b[39m.\u001b[39mwarn(\n\u001b[1;32m    327\u001b[0m         msg\u001b[39m.\u001b[39mformat(arguments\u001b[39m=\u001b[39m_format_argument_list(allow_args)),\n\u001b[1;32m    328\u001b[0m         \u001b[39mFutureWarning\u001b[39;00m,\n\u001b[1;32m    329\u001b[0m         stacklevel\u001b[39m=\u001b[39mfind_stack_level(),\n\u001b[1;32m    330\u001b[0m     )\n\u001b[0;32m--> 331\u001b[0m \u001b[39mreturn\u001b[39;00m func(\u001b[39m*\u001b[39;49margs, \u001b[39m*\u001b[39;49m\u001b[39m*\u001b[39;49mkwargs)\n",
      "File \u001b[0;32m~/miniconda3/lib/python3.9/site-packages/pandas/io/parsers/readers.py:950\u001b[0m, in \u001b[0;36mread_csv\u001b[0;34m(filepath_or_buffer, sep, delimiter, header, names, index_col, usecols, squeeze, prefix, mangle_dupe_cols, dtype, engine, converters, true_values, false_values, skipinitialspace, skiprows, skipfooter, nrows, na_values, keep_default_na, na_filter, verbose, skip_blank_lines, parse_dates, infer_datetime_format, keep_date_col, date_parser, dayfirst, cache_dates, iterator, chunksize, compression, thousands, decimal, lineterminator, quotechar, quoting, doublequote, escapechar, comment, encoding, encoding_errors, dialect, error_bad_lines, warn_bad_lines, on_bad_lines, delim_whitespace, low_memory, memory_map, float_precision, storage_options)\u001b[0m\n\u001b[1;32m    935\u001b[0m kwds_defaults \u001b[39m=\u001b[39m _refine_defaults_read(\n\u001b[1;32m    936\u001b[0m     dialect,\n\u001b[1;32m    937\u001b[0m     delimiter,\n\u001b[0;32m   (...)\u001b[0m\n\u001b[1;32m    946\u001b[0m     defaults\u001b[39m=\u001b[39m{\u001b[39m\"\u001b[39m\u001b[39mdelimiter\u001b[39m\u001b[39m\"\u001b[39m: \u001b[39m\"\u001b[39m\u001b[39m,\u001b[39m\u001b[39m\"\u001b[39m},\n\u001b[1;32m    947\u001b[0m )\n\u001b[1;32m    948\u001b[0m kwds\u001b[39m.\u001b[39mupdate(kwds_defaults)\n\u001b[0;32m--> 950\u001b[0m \u001b[39mreturn\u001b[39;00m _read(filepath_or_buffer, kwds)\n",
      "File \u001b[0;32m~/miniconda3/lib/python3.9/site-packages/pandas/io/parsers/readers.py:605\u001b[0m, in \u001b[0;36m_read\u001b[0;34m(filepath_or_buffer, kwds)\u001b[0m\n\u001b[1;32m    602\u001b[0m _validate_names(kwds\u001b[39m.\u001b[39mget(\u001b[39m\"\u001b[39m\u001b[39mnames\u001b[39m\u001b[39m\"\u001b[39m, \u001b[39mNone\u001b[39;00m))\n\u001b[1;32m    604\u001b[0m \u001b[39m# Create the parser.\u001b[39;00m\n\u001b[0;32m--> 605\u001b[0m parser \u001b[39m=\u001b[39m TextFileReader(filepath_or_buffer, \u001b[39m*\u001b[39;49m\u001b[39m*\u001b[39;49mkwds)\n\u001b[1;32m    607\u001b[0m \u001b[39mif\u001b[39;00m chunksize \u001b[39mor\u001b[39;00m iterator:\n\u001b[1;32m    608\u001b[0m     \u001b[39mreturn\u001b[39;00m parser\n",
      "File \u001b[0;32m~/miniconda3/lib/python3.9/site-packages/pandas/io/parsers/readers.py:1442\u001b[0m, in \u001b[0;36mTextFileReader.__init__\u001b[0;34m(self, f, engine, **kwds)\u001b[0m\n\u001b[1;32m   1439\u001b[0m     \u001b[39mself\u001b[39m\u001b[39m.\u001b[39moptions[\u001b[39m\"\u001b[39m\u001b[39mhas_index_names\u001b[39m\u001b[39m\"\u001b[39m] \u001b[39m=\u001b[39m kwds[\u001b[39m\"\u001b[39m\u001b[39mhas_index_names\u001b[39m\u001b[39m\"\u001b[39m]\n\u001b[1;32m   1441\u001b[0m \u001b[39mself\u001b[39m\u001b[39m.\u001b[39mhandles: IOHandles \u001b[39m|\u001b[39m \u001b[39mNone\u001b[39;00m \u001b[39m=\u001b[39m \u001b[39mNone\u001b[39;00m\n\u001b[0;32m-> 1442\u001b[0m \u001b[39mself\u001b[39m\u001b[39m.\u001b[39m_engine \u001b[39m=\u001b[39m \u001b[39mself\u001b[39;49m\u001b[39m.\u001b[39;49m_make_engine(f, \u001b[39mself\u001b[39;49m\u001b[39m.\u001b[39;49mengine)\n",
      "File \u001b[0;32m~/miniconda3/lib/python3.9/site-packages/pandas/io/parsers/readers.py:1753\u001b[0m, in \u001b[0;36mTextFileReader._make_engine\u001b[0;34m(self, f, engine)\u001b[0m\n\u001b[1;32m   1750\u001b[0m     \u001b[39mraise\u001b[39;00m \u001b[39mValueError\u001b[39;00m(msg)\n\u001b[1;32m   1752\u001b[0m \u001b[39mtry\u001b[39;00m:\n\u001b[0;32m-> 1753\u001b[0m     \u001b[39mreturn\u001b[39;00m mapping[engine](f, \u001b[39m*\u001b[39;49m\u001b[39m*\u001b[39;49m\u001b[39mself\u001b[39;49m\u001b[39m.\u001b[39;49moptions)\n\u001b[1;32m   1754\u001b[0m \u001b[39mexcept\u001b[39;00m \u001b[39mException\u001b[39;00m:\n\u001b[1;32m   1755\u001b[0m     \u001b[39mif\u001b[39;00m \u001b[39mself\u001b[39m\u001b[39m.\u001b[39mhandles \u001b[39mis\u001b[39;00m \u001b[39mnot\u001b[39;00m \u001b[39mNone\u001b[39;00m:\n",
      "File \u001b[0;32m~/miniconda3/lib/python3.9/site-packages/pandas/io/parsers/c_parser_wrapper.py:135\u001b[0m, in \u001b[0;36mCParserWrapper.__init__\u001b[0;34m(self, src, **kwds)\u001b[0m\n\u001b[1;32m    131\u001b[0m \u001b[39massert\u001b[39;00m \u001b[39mself\u001b[39m\u001b[39m.\u001b[39morig_names \u001b[39mis\u001b[39;00m \u001b[39mnot\u001b[39;00m \u001b[39mNone\u001b[39;00m\n\u001b[1;32m    132\u001b[0m \u001b[39mif\u001b[39;00m \u001b[39mself\u001b[39m\u001b[39m.\u001b[39musecols_dtype \u001b[39m==\u001b[39m \u001b[39m\"\u001b[39m\u001b[39mstring\u001b[39m\u001b[39m\"\u001b[39m \u001b[39mand\u001b[39;00m \u001b[39mnot\u001b[39;00m \u001b[39mset\u001b[39m(usecols)\u001b[39m.\u001b[39missubset(\n\u001b[1;32m    133\u001b[0m     \u001b[39mself\u001b[39m\u001b[39m.\u001b[39morig_names\n\u001b[1;32m    134\u001b[0m ):\n\u001b[0;32m--> 135\u001b[0m     \u001b[39mself\u001b[39;49m\u001b[39m.\u001b[39;49m_validate_usecols_names(usecols, \u001b[39mself\u001b[39;49m\u001b[39m.\u001b[39;49morig_names)\n\u001b[1;32m    137\u001b[0m \u001b[39m# error: Cannot determine type of 'names'\u001b[39;00m\n\u001b[1;32m    138\u001b[0m \u001b[39mif\u001b[39;00m \u001b[39mlen\u001b[39m(\u001b[39mself\u001b[39m\u001b[39m.\u001b[39mnames) \u001b[39m>\u001b[39m \u001b[39mlen\u001b[39m(usecols):  \u001b[39m# type: ignore[has-type]\u001b[39;00m\n\u001b[1;32m    139\u001b[0m     \u001b[39m# error: Cannot determine type of 'names'\u001b[39;00m\n",
      "File \u001b[0;32m~/miniconda3/lib/python3.9/site-packages/pandas/io/parsers/base_parser.py:917\u001b[0m, in \u001b[0;36mParserBase._validate_usecols_names\u001b[0;34m(self, usecols, names)\u001b[0m\n\u001b[1;32m    915\u001b[0m missing \u001b[39m=\u001b[39m [c \u001b[39mfor\u001b[39;00m c \u001b[39min\u001b[39;00m usecols \u001b[39mif\u001b[39;00m c \u001b[39mnot\u001b[39;00m \u001b[39min\u001b[39;00m names]\n\u001b[1;32m    916\u001b[0m \u001b[39mif\u001b[39;00m \u001b[39mlen\u001b[39m(missing) \u001b[39m>\u001b[39m \u001b[39m0\u001b[39m:\n\u001b[0;32m--> 917\u001b[0m     \u001b[39mraise\u001b[39;00m \u001b[39mValueError\u001b[39;00m(\n\u001b[1;32m    918\u001b[0m         \u001b[39mf\u001b[39m\u001b[39m\"\u001b[39m\u001b[39mUsecols do not match columns, columns expected but not found: \u001b[39m\u001b[39m\"\u001b[39m\n\u001b[1;32m    919\u001b[0m         \u001b[39mf\u001b[39m\u001b[39m\"\u001b[39m\u001b[39m{\u001b[39;00mmissing\u001b[39m}\u001b[39;00m\u001b[39m\"\u001b[39m\n\u001b[1;32m    920\u001b[0m     )\n\u001b[1;32m    922\u001b[0m \u001b[39mreturn\u001b[39;00m usecols\n",
      "\u001b[0;31mValueError\u001b[0m: Usecols do not match columns, columns expected but not found: ['nutrition_grade_fr', 'main_category_fr']"
     ]
    }
   ],
   "source": [
    "features = ['code',\n",
    "            'product_name',\n",
    "            'categories',\n",
    "            'main_category',\n",
    "            'main_category_fr',\n",
    "            'nutrition_grade_fr',\n",
    "            'nutrition-score-fr_100g',\n",
    "            ]\n",
    "\n",
    "# selecting only those columns on the first 200_000 products.\n",
    "data_sel = pd.read_csv('./csv_files/data.csv',\n",
    "                   sep='\\t',\n",
    "                   usecols=features,\n",
    "                   nrows=2e5)\n"
   ]
  },
  {
   "cell_type": "code",
   "execution_count": 35,
   "metadata": {},
   "outputs": [],
   "source": [
    "# feature_fr seem to not be included. Let's try with another CSV file\n",
    "# provided in the OpenClassrooms website.\n",
    "data_fr = pd.read_csv('./csv_files/fr.openfoodfacts.org.products.csv',\n",
    "                      sep='\\t',\n",
    "                      nrows=5)\n"
   ]
  },
  {
   "cell_type": "code",
   "execution_count": 36,
   "metadata": {},
   "outputs": [
    {
     "data": {
      "text/plain": [
       "(5, 162)"
      ]
     },
     "execution_count": 36,
     "metadata": {},
     "output_type": "execute_result"
    }
   ],
   "source": [
    "data_fr.shape"
   ]
  },
  {
   "cell_type": "code",
   "execution_count": 40,
   "metadata": {},
   "outputs": [
    {
     "name": "stdout",
     "output_type": "stream",
     "text": [
      "Index(['additives_fr', 'allergens_fr', 'alpha-linolenic-acid_100g',\n",
      "       'arachidic-acid_100g', 'arachidonic-acid_100g', 'behenic-acid_100g',\n",
      "       'butyric-acid_100g', 'capric-acid_100g', 'caproic-acid_100g',\n",
      "       'caprylic-acid_100g', 'categories_fr', 'cerotic-acid_100g',\n",
      "       'countries_fr', 'dihomo-gamma-linolenic-acid_100g',\n",
      "       'docosahexaenoic-acid_100g', 'eicosapentaenoic-acid_100g',\n",
      "       'elaidic-acid_100g', 'erucic-acid_100g', 'fructose_100g',\n",
      "       'gamma-linolenic-acid_100g', 'glucose_100g', 'gondoic-acid_100g',\n",
      "       'ingredients_from_palm_oil', 'ingredients_from_palm_oil_n',\n",
      "       'ingredients_from_palm_oil_tags',\n",
      "       'ingredients_that_may_be_from_palm_oil',\n",
      "       'ingredients_that_may_be_from_palm_oil_n',\n",
      "       'ingredients_that_may_be_from_palm_oil_tags', 'labels_fr',\n",
      "       'lactose_100g', 'lauric-acid_100g', 'lignoceric-acid_100g',\n",
      "       'linoleic-acid_100g', 'main_category_fr', 'maltodextrins_100g',\n",
      "       'maltose_100g', 'mead-acid_100g', 'melissic-acid_100g',\n",
      "       'montanic-acid_100g', 'myristic-acid_100g', 'nervonic-acid_100g',\n",
      "       'nutrition_grade_fr', 'nutrition_grade_uk', 'oleic-acid_100g',\n",
      "       'palmitic-acid_100g', 'states_fr', 'stearic-acid_100g', 'sucrose_100g',\n",
      "       'traces_fr'],\n",
      "      dtype='object')\n",
      "49\n"
     ]
    }
   ],
   "source": [
    "# the features list is not the same. (196 != 162)\n",
    "features_only_fr = data_fr.columns.difference(data_en.columns)\n",
    "print(features_only_fr)\n",
    "print(len(features_only_fr))"
   ]
  },
  {
   "cell_type": "code",
   "execution_count": 41,
   "metadata": {},
   "outputs": [
    {
     "name": "stdout",
     "output_type": "stream",
     "text": [
      "Index(['-alpha-linolenic-acid_100g', '-arachidic-acid_100g',\n",
      "       '-arachidonic-acid_100g', '-behenic-acid_100g', '-butyric-acid_100g',\n",
      "       '-capric-acid_100g', '-caproic-acid_100g', '-caprylic-acid_100g',\n",
      "       '-cerotic-acid_100g', '-dihomo-gamma-linolenic-acid_100g',\n",
      "       '-docosahexaenoic-acid_100g', '-eicosapentaenoic-acid_100g',\n",
      "       '-elaidic-acid_100g', '-erucic-acid_100g', '-fructose_100g',\n",
      "       '-gamma-linolenic-acid_100g', '-glucose_100g', '-gondoic-acid_100g',\n",
      "       '-lactose_100g', '-lauric-acid_100g', '-lignoceric-acid_100g',\n",
      "       '-linoleic-acid_100g', '-maltodextrins_100g', '-maltose_100g',\n",
      "       '-mead-acid_100g', '-melissic-acid_100g', '-montanic-acid_100g',\n",
      "       '-myristic-acid_100g', '-nervonic-acid_100g', '-oleic-acid_100g',\n",
      "       '-palmitic-acid_100g', '-stearic-acid_100g', '-sucrose_100g',\n",
      "       'abbreviated_product_name', 'additives_en', 'allergens_en',\n",
      "       'beta-glucan_100g', 'brand_owner',\n",
      "       'carbon-footprint-from-meat-or-fish_100g', 'carnitine_100g',\n",
      "       'categories_en', 'choline_100g', 'completeness', 'countries_en',\n",
      "       'data_quality_errors_tags', 'ecoscore_grade', 'ecoscore_score',\n",
      "       'energy-kcal_100g', 'energy-kj_100g', 'food_groups', 'food_groups_en',\n",
      "       'food_groups_tags', 'fruits-vegetables-nuts-dried_100g',\n",
      "       'fruits-vegetables-nuts-estimate-from-ingredients_100g',\n",
      "       'fruits-vegetables-nuts-estimate_100g', 'image_ingredients_small_url',\n",
      "       'image_ingredients_url', 'image_nutrition_small_url',\n",
      "       'image_nutrition_url', 'ingredients_analysis_tags', 'ingredients_tags',\n",
      "       'inositol_100g', 'insoluble-fiber_100g', 'labels_en',\n",
      "       'last_image_datetime', 'last_image_t', 'main_category_en', 'nova_group',\n",
      "       'nutrient_levels_tags', 'nutriscore_grade', 'nutriscore_score',\n",
      "       'origins_en', 'owner', 'packaging_en', 'packaging_text',\n",
      "       'phylloquinone_100g', 'popularity_tags', 'product_quantity',\n",
      "       'serving_quantity', 'soluble-fiber_100g', 'states_en', 'traces_en',\n",
      "       'unique_scans_n'],\n",
      "      dtype='object')\n",
      "83\n"
     ]
    }
   ],
   "source": [
    "features_only_en = data_en.columns.difference(data_fr.columns)\n",
    "print(features_only_en)\n",
    "print(len(features_only_en))"
   ]
  },
  {
   "cell_type": "code",
   "execution_count": 45,
   "metadata": {},
   "outputs": [],
   "source": [
    "# More features are common. Need to strip for matching.\n",
    "features_mod = {feat: feat.lstrip(' -') for feat in data_en.columns}"
   ]
  },
  {
   "cell_type": "code",
   "execution_count": 46,
   "metadata": {},
   "outputs": [],
   "source": [
    "data_en.rename(columns=features_mod, inplace=True)"
   ]
  },
  {
   "cell_type": "code",
   "execution_count": 47,
   "metadata": {},
   "outputs": [
    {
     "name": "stdout",
     "output_type": "stream",
     "text": [
      "Index(['abbreviated_product_name', 'additives_en', 'allergens_en',\n",
      "       'beta-glucan_100g', 'brand_owner',\n",
      "       'carbon-footprint-from-meat-or-fish_100g', 'carnitine_100g',\n",
      "       'categories_en', 'choline_100g', 'completeness', 'countries_en',\n",
      "       'data_quality_errors_tags', 'ecoscore_grade', 'ecoscore_score',\n",
      "       'energy-kcal_100g', 'energy-kj_100g', 'food_groups', 'food_groups_en',\n",
      "       'food_groups_tags', 'fruits-vegetables-nuts-dried_100g',\n",
      "       'fruits-vegetables-nuts-estimate-from-ingredients_100g',\n",
      "       'fruits-vegetables-nuts-estimate_100g', 'image_ingredients_small_url',\n",
      "       'image_ingredients_url', 'image_nutrition_small_url',\n",
      "       'image_nutrition_url', 'ingredients_analysis_tags', 'ingredients_tags',\n",
      "       'inositol_100g', 'insoluble-fiber_100g', 'labels_en',\n",
      "       'last_image_datetime', 'last_image_t', 'main_category_en', 'nova_group',\n",
      "       'nutrient_levels_tags', 'nutriscore_grade', 'nutriscore_score',\n",
      "       'origins_en', 'owner', 'packaging_en', 'packaging_text',\n",
      "       'phylloquinone_100g', 'popularity_tags', 'product_quantity',\n",
      "       'serving_quantity', 'soluble-fiber_100g', 'states_en', 'traces_en',\n",
      "       'unique_scans_n'],\n",
      "      dtype='object')\n",
      "50\n"
     ]
    }
   ],
   "source": [
    "features_only_en = data_en.columns.difference(data_fr.columns)\n",
    "print(features_only_en)\n",
    "print(len(features_only_en))"
   ]
  },
  {
   "cell_type": "code",
   "execution_count": 48,
   "metadata": {},
   "outputs": [
    {
     "name": "stdout",
     "output_type": "stream",
     "text": [
      "Index(['additives_fr', 'allergens_fr', 'categories_fr', 'countries_fr',\n",
      "       'ingredients_from_palm_oil', 'ingredients_from_palm_oil_n',\n",
      "       'ingredients_from_palm_oil_tags',\n",
      "       'ingredients_that_may_be_from_palm_oil',\n",
      "       'ingredients_that_may_be_from_palm_oil_n',\n",
      "       'ingredients_that_may_be_from_palm_oil_tags', 'labels_fr',\n",
      "       'main_category_fr', 'nutrition_grade_fr', 'nutrition_grade_uk',\n",
      "       'states_fr', 'traces_fr'],\n",
      "      dtype='object')\n",
      "16\n"
     ]
    }
   ],
   "source": [
    "features_only_fr = data_fr.columns.difference(data_en.columns)\n",
    "print(features_only_fr)\n",
    "print(len(features_only_fr))"
   ]
  },
  {
   "cell_type": "code",
   "execution_count": 49,
   "metadata": {},
   "outputs": [
    {
     "data": {
      "text/plain": [
       "True"
      ]
     },
     "execution_count": 49,
     "metadata": {},
     "output_type": "execute_result"
    }
   ],
   "source": [
    "50 - 16 == 196 - 162"
   ]
  },
  {
   "cell_type": "code",
   "execution_count": 52,
   "metadata": {},
   "outputs": [
    {
     "name": "stdout",
     "output_type": "stream",
     "text": [
      "146\n"
     ]
    }
   ],
   "source": [
    "common_features = data_en.columns.intersection(data_fr.columns)\n",
    "print(len(common_features))"
   ]
  },
  {
   "cell_type": "code",
   "execution_count": 56,
   "metadata": {},
   "outputs": [
    {
     "name": "stderr",
     "output_type": "stream",
     "text": [
      "/tmp/ipykernel_4402/1746534333.py:3: DtypeWarning: Columns (0) have mixed types. Specify dtype option on import or set low_memory=False.\n",
      "  categories_en = pd.read_csv('./csv_files/data.csv',\n",
      "/tmp/ipykernel_4402/1746534333.py:6: DtypeWarning: Columns (0) have mixed types. Specify dtype option on import or set low_memory=False.\n",
      "  categories_fr = pd.read_csv('./csv_files/fr.openfoodfacts.org.products.csv',\n"
     ]
    }
   ],
   "source": [
    "# Are those really common, or can I find information in one CSV file\n",
    "# and not in the other?\n",
    "categories_en = pd.read_csv('./csv_files/data.csv',\n",
    "                            usecols=['code','categories'],\n",
    "                            sep='\\t')\n",
    "categories_fr = pd.read_csv('./csv_files/fr.openfoodfacts.org.products.csv',\n",
    "                            usecols=['code','categories'],\n",
    "                            sep='\\t')"
   ]
  },
  {
   "cell_type": "code",
   "execution_count": 55,
   "metadata": {},
   "outputs": [
    {
     "name": "stdout",
     "output_type": "stream",
     "text": [
      "(2686036, 1)\n",
      "(320772, 1)\n"
     ]
    }
   ],
   "source": [
    "print(categories_en.shape)\n",
    "print(categories_fr.shape)"
   ]
  },
  {
   "cell_type": "code",
   "execution_count": 60,
   "metadata": {},
   "outputs": [],
   "source": [
    "both_categories = categories_en.join(categories_fr.set_index('code'),\n",
    "                                     on='code',\n",
    "                                     how='outer',\n",
    "                                     rsuffix='_fr')"
   ]
  },
  {
   "cell_type": "code",
   "execution_count": 61,
   "metadata": {},
   "outputs": [
    {
     "data": {
      "text/plain": [
       "(2758010, 3)"
      ]
     },
     "execution_count": 61,
     "metadata": {},
     "output_type": "execute_result"
    }
   ],
   "source": [
    "both_categories.shape"
   ]
  },
  {
   "cell_type": "code",
   "execution_count": 62,
   "metadata": {},
   "outputs": [
    {
     "data": {
      "text/plain": [
       "Index(['code', 'categories', 'categories_fr'], dtype='object')"
      ]
     },
     "execution_count": 62,
     "metadata": {},
     "output_type": "execute_result"
    }
   ],
   "source": [
    "both_categories.columns"
   ]
  },
  {
   "cell_type": "code",
   "execution_count": 64,
   "metadata": {},
   "outputs": [
    {
     "data": {
      "text/plain": [
       "(2757074, 3)"
      ]
     },
     "execution_count": 64,
     "metadata": {},
     "output_type": "execute_result"
    }
   ],
   "source": [
    "diff = (both_categories.\n",
    "        loc[both_categories.categories \n",
    "            != both_categories.categories_fr])\n",
    "diff.shape"
   ]
  },
  {
   "cell_type": "code",
   "execution_count": 65,
   "metadata": {},
   "outputs": [
    {
     "data": {
      "text/html": [
       "<div>\n",
       "<style scoped>\n",
       "    .dataframe tbody tr th:only-of-type {\n",
       "        vertical-align: middle;\n",
       "    }\n",
       "\n",
       "    .dataframe tbody tr th {\n",
       "        vertical-align: top;\n",
       "    }\n",
       "\n",
       "    .dataframe thead th {\n",
       "        text-align: right;\n",
       "    }\n",
       "</style>\n",
       "<table border=\"1\" class=\"dataframe\">\n",
       "  <thead>\n",
       "    <tr style=\"text-align: right;\">\n",
       "      <th></th>\n",
       "      <th>code</th>\n",
       "      <th>categories</th>\n",
       "      <th>categories_fr</th>\n",
       "    </tr>\n",
       "  </thead>\n",
       "  <tbody>\n",
       "    <tr>\n",
       "      <th>0.0</th>\n",
       "      <td>00000000000000225</td>\n",
       "      <td>NaN</td>\n",
       "      <td>NaN</td>\n",
       "    </tr>\n",
       "    <tr>\n",
       "      <th>1.0</th>\n",
       "      <td>0000000000000207025004</td>\n",
       "      <td>NaN</td>\n",
       "      <td>NaN</td>\n",
       "    </tr>\n",
       "    <tr>\n",
       "      <th>2.0</th>\n",
       "      <td>00000000000003429145</td>\n",
       "      <td>NaN</td>\n",
       "      <td>NaN</td>\n",
       "    </tr>\n",
       "    <tr>\n",
       "      <th>3.0</th>\n",
       "      <td>00000000000026772226</td>\n",
       "      <td>Produits laitiers, Desserts, Produits fermenté...</td>\n",
       "      <td>NaN</td>\n",
       "    </tr>\n",
       "    <tr>\n",
       "      <th>4.0</th>\n",
       "      <td>0000000000017</td>\n",
       "      <td>NaN</td>\n",
       "      <td>NaN</td>\n",
       "    </tr>\n",
       "  </tbody>\n",
       "</table>\n",
       "</div>"
      ],
      "text/plain": [
       "                       code  \\\n",
       "0.0       00000000000000225   \n",
       "1.0  0000000000000207025004   \n",
       "2.0    00000000000003429145   \n",
       "3.0    00000000000026772226   \n",
       "4.0           0000000000017   \n",
       "\n",
       "                                            categories categories_fr  \n",
       "0.0                                                NaN           NaN  \n",
       "1.0                                                NaN           NaN  \n",
       "2.0                                                NaN           NaN  \n",
       "3.0  Produits laitiers, Desserts, Produits fermenté...           NaN  \n",
       "4.0                                                NaN           NaN  "
      ]
     },
     "execution_count": 65,
     "metadata": {},
     "output_type": "execute_result"
    }
   ],
   "source": [
    "diff.head()"
   ]
  },
  {
   "cell_type": "code",
   "execution_count": 66,
   "metadata": {},
   "outputs": [
    {
     "data": {
      "text/plain": [
       "<AxesSubplot: >"
      ]
     },
     "execution_count": 66,
     "metadata": {},
     "output_type": "execute_result"
    },
    {
     "data": {
      "image/png": "[encoded data removed]",
      "text/plain": [
       "<Figure size 2500x1000 with 3 Axes>"
      ]
     },
     "metadata": {},
     "output_type": "display_data"
    }
   ],
   "source": [
    "msno.bar(diff)"
   ]
  },
  {
   "cell_type": "code",
   "execution_count": null,
   "metadata": {},
   "outputs": [],
   "source": []
  }
 ],
 "metadata": {
  "kernelspec": {
   "display_name": "base",
   "language": "python",
   "name": "python3"
  },
  "language_info": {
   "codemirror_mode": {
    "name": "ipython",
    "version": 3
   },
   "file_extension": ".py",
   "mimetype": "text/x-python",
   "name": "python",
   "nbconvert_exporter": "python",
   "pygments_lexer": "ipython3",
   "version": "3.9.12"
  },
  "orig_nbformat": 4,
  "vscode": {
   "interpreter": {
    "hash": "35d96bde42c447f224c0091c7f926239ff26adf425f6369d7ff35b7be11b8537"
   }
  }
 },
 "nbformat": 4,
 "nbformat_minor": 2
}
